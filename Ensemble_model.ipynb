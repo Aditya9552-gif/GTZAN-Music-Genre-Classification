{
 "cells": [
  {
   "cell_type": "code",
   "execution_count": 1,
   "metadata": {
    "id": "5rxM_ZesGBU4"
   },
   "outputs": [],
   "source": [
    "import os\n",
    "import pandas as pd\n",
    "import numpy as np\n",
    "import tensorflow as tf\n",
    "import joblib\n",
    "from tensorflow.keras import layers, models\n",
    "from tensorflow.keras.utils import to_categorical\n",
    "from sklearn.model_selection import train_test_split\n",
    "from sklearn.preprocessing import LabelEncoder, StandardScaler"
   ]
  },
  {
   "cell_type": "code",
   "execution_count": 2,
   "metadata": {
    "colab": {
     "base_uri": "https://localhost:8080/"
    },
    "id": "kwqWuh1lFW4i",
    "outputId": "9197d971-ddd3-4db2-f310-eec43a6dca6d"
   },
   "outputs": [
    {
     "data": {
      "text/plain": [
       "['label_encoder.pkl']"
      ]
     },
     "execution_count": 2,
     "metadata": {},
     "output_type": "execute_result"
    }
   ],
   "source": [
    "# Define the path to the directory containing the spectrogram images\n",
    "spectrogram_dir = '10sec_augmented_spectrogram_images'\n",
    "\n",
    "# Define the model hyperparameters\n",
    "input_shape = (64, 64, 3)  \n",
    "num_classes = len(os.listdir(spectrogram_dir))  \n",
    "\n",
    "\n",
    "# Load spectrogram images and labels\n",
    "spectrograms = []\n",
    "labels = []\n",
    "\n",
    "for genre_folder in os.listdir(spectrogram_dir):\n",
    "    genre_dir = os.path.join(spectrogram_dir, genre_folder)\n",
    "    for filename in os.listdir(genre_dir):\n",
    "        if filename.endswith('.png'):\n",
    "            filepath = os.path.join(genre_dir, filename)\n",
    "            spectrogram = tf.keras.preprocessing.image.load_img(filepath, target_size=(input_shape[0], input_shape[1]))\n",
    "            spectrogram = tf.keras.preprocessing.image.img_to_array(spectrogram)\n",
    "            spectrogram /= 255.0  # Normalize pixel values to [0, 1]\n",
    "            spectrograms.append(spectrogram)\n",
    "            labels.append(genre_folder)\n",
    "\n",
    "# Encode labels\n",
    "label_encoder = LabelEncoder()\n",
    "labels_encoded = label_encoder.fit_transform(labels)\n",
    "\n",
    "# Sort the data by labels\n",
    "sorting_indices = np.argsort(labels_encoded)\n",
    "spectrograms = np.array(spectrograms)[sorting_indices]\n",
    "labels_encoded = labels_encoded[sorting_indices]\n",
    "\n",
    "num_classes = len(label_encoder.classes_)\n",
    "labels_one_hot = to_categorical(labels_encoded, num_classes=num_classes)\n",
    "\n",
    "# Split the data into training and testing sets\n",
    "X_train_spectrogram, X_test_spectrogram, y_train_spectrogram, y_test_spectrogram = train_test_split(spectrograms, labels_one_hot, test_size=0.2, random_state=42)\n",
    "\n",
    "joblib.dump(label_encoder, 'label_encoder.pkl')"
   ]
  },
  {
   "cell_type": "code",
   "execution_count": 3,
   "metadata": {
    "colab": {
     "base_uri": "https://localhost:8080/"
    },
    "id": "A6Yh6kwoGGly",
    "outputId": "77c225e2-1cb5-492e-8e6e-d070f8ba4235"
   },
   "outputs": [
    {
     "data": {
      "text/plain": [
       "['scaler.pkl']"
      ]
     },
     "execution_count": 3,
     "metadata": {},
     "output_type": "execute_result"
    }
   ],
   "source": [
    "data = pd.read_csv('gtzan_features_with_augmentation_10sec_segments.csv')\n",
    "\n",
    "X = data.drop(['filename', 'label'], axis=1)\n",
    "y = data['label']\n",
    "X = X.values\n",
    "y = y.values\n",
    "\n",
    "from tensorflow.keras.utils import to_categorical\n",
    "from sklearn.preprocessing import LabelEncoder\n",
    "\n",
    "label_encoder=LabelEncoder()\n",
    "y=to_categorical(label_encoder.fit_transform(y))\n",
    "\n",
    "\n",
    "X_train_feature, X_test_feature, y_train_feature, y_test_feature = train_test_split(X, y, test_size=0.2, random_state=42)\n",
    "\n",
    "# Standardize the feature data\n",
    "scaler = StandardScaler()\n",
    "X_train_feature = scaler.fit_transform(X_train_feature)\n",
    "X_test_feature = scaler.transform(X_test_feature)\n",
    "\n",
    "joblib.dump(scaler, 'scaler.pkl')"
   ]
  },
  {
   "cell_type": "code",
   "execution_count": 4,
   "metadata": {
    "colab": {
     "base_uri": "https://localhost:8080/"
    },
    "id": "piPl4WVcGJ-G",
    "outputId": "c05753df-8388-4da5-e57d-6da8868be61a"
   },
   "outputs": [
    {
     "data": {
      "text/plain": [
       "(9571, 10)"
      ]
     },
     "execution_count": 4,
     "metadata": {},
     "output_type": "execute_result"
    }
   ],
   "source": [
    "y_train_feature.shape"
   ]
  },
  {
   "cell_type": "code",
   "execution_count": 5,
   "metadata": {
    "colab": {
     "base_uri": "https://localhost:8080/"
    },
    "id": "5JkAYLTwGMoc",
    "outputId": "8471864e-155b-4cbb-e963-b00a941777f0"
   },
   "outputs": [
    {
     "data": {
      "text/plain": [
       "(9571, 10)"
      ]
     },
     "execution_count": 5,
     "metadata": {},
     "output_type": "execute_result"
    }
   ],
   "source": [
    "y_train_spectrogram.shape"
   ]
  },
  {
   "cell_type": "code",
   "execution_count": 6,
   "metadata": {
    "colab": {
     "base_uri": "https://localhost:8080/"
    },
    "id": "Vdoc0EKCGP5L",
    "outputId": "843bcfb8-bf27-4a4f-cbcd-3467f570efda"
   },
   "outputs": [
    {
     "data": {
      "text/plain": [
       "array([[0., 0., 0., ..., 1., 0., 0.],\n",
       "       [0., 0., 0., ..., 0., 0., 1.],\n",
       "       [1., 0., 0., ..., 0., 0., 0.],\n",
       "       ...,\n",
       "       [0., 0., 0., ..., 1., 0., 0.],\n",
       "       [0., 0., 1., ..., 0., 0., 0.],\n",
       "       [0., 0., 0., ..., 0., 0., 0.]], dtype=float32)"
      ]
     },
     "execution_count": 6,
     "metadata": {},
     "output_type": "execute_result"
    }
   ],
   "source": [
    "y_test_feature"
   ]
  },
  {
   "cell_type": "code",
   "execution_count": 7,
   "metadata": {
    "colab": {
     "base_uri": "https://localhost:8080/"
    },
    "id": "1tr9bKsJGSVg",
    "outputId": "0380f25a-f953-4709-aa49-727e83f4b66b"
   },
   "outputs": [
    {
     "data": {
      "text/plain": [
       "array([[0., 0., 0., ..., 1., 0., 0.],\n",
       "       [0., 0., 0., ..., 0., 0., 1.],\n",
       "       [1., 0., 0., ..., 0., 0., 0.],\n",
       "       ...,\n",
       "       [0., 0., 0., ..., 1., 0., 0.],\n",
       "       [0., 0., 1., ..., 0., 0., 0.],\n",
       "       [0., 0., 0., ..., 0., 0., 0.]], dtype=float32)"
      ]
     },
     "execution_count": 7,
     "metadata": {},
     "output_type": "execute_result"
    }
   ],
   "source": [
    "y_test_spectrogram"
   ]
  },
  {
   "cell_type": "code",
   "execution_count": 17,
   "metadata": {
    "colab": {
     "base_uri": "https://localhost:8080/"
    },
    "id": "6J2ZYvK8GaMp",
    "outputId": "29d40664-e2ed-4105-9e93-ff9547ca55cd"
   },
   "outputs": [
    {
     "name": "stdout",
     "output_type": "stream",
     "text": [
      "75/75 [==============================] - 1s 9ms/step\n",
      "75/75 [==============================] - 2s 19ms/step\n",
      "75/75 [==============================] - 5s 60ms/step\n",
      "75/75 [==============================] - 7s 74ms/step\n",
      "75/75 [==============================] - 5s 60ms/step\n",
      "Epoch 1/10\n",
      "60/60 [==============================] - ETA: 0s - loss: 0.4910 - accuracy: 0.9127\n",
      "Epoch 1: val_accuracy improved from -inf to 0.97912, saving model to ensemble_averaging_model.h5\n",
      "60/60 [==============================] - 3s 30ms/step - loss: 0.4910 - accuracy: 0.9127 - val_loss: 0.0502 - val_accuracy: 0.9791\n",
      "Epoch 2/10\n",
      " 4/60 [=>............................] - ETA: 1s - loss: 0.0591 - accuracy: 0.9766"
     ]
    },
    {
     "name": "stderr",
     "output_type": "stream",
     "text": [
      "/usr/local/lib/python3.10/dist-packages/keras/src/engine/training.py:3103: UserWarning: You are saving your model as an HDF5 file via `model.save()`. This file format is considered legacy. We recommend using instead the native Keras format, e.g. `model.save('my_model.keras')`.\n",
      "  saving_api.save_model(\n"
     ]
    },
    {
     "name": "stdout",
     "output_type": "stream",
     "text": [
      "58/60 [============================>.] - ETA: 0s - loss: 0.0874 - accuracy: 0.9752\n",
      "Epoch 2: val_accuracy improved from 0.97912 to 0.98121, saving model to ensemble_averaging_model.h5\n",
      "60/60 [==============================] - 1s 25ms/step - loss: 0.0857 - accuracy: 0.9754 - val_loss: 0.0547 - val_accuracy: 0.9812\n",
      "Epoch 3/10\n",
      "59/60 [============================>.] - ETA: 0s - loss: 0.0617 - accuracy: 0.9825\n",
      "Epoch 3: val_accuracy did not improve from 0.98121\n",
      "60/60 [==============================] - 2s 27ms/step - loss: 0.0611 - accuracy: 0.9828 - val_loss: 0.0695 - val_accuracy: 0.9770\n",
      "Epoch 4/10\n",
      "57/60 [===========================>..] - ETA: 0s - loss: 0.0553 - accuracy: 0.9808\n",
      "Epoch 4: val_accuracy did not improve from 0.98121\n",
      "60/60 [==============================] - 1s 20ms/step - loss: 0.0533 - accuracy: 0.9817 - val_loss: 0.0544 - val_accuracy: 0.9729\n",
      "Epoch 5/10\n",
      "57/60 [===========================>..] - ETA: 0s - loss: 0.0526 - accuracy: 0.9852\n",
      "Epoch 5: val_accuracy did not improve from 0.98121\n",
      "60/60 [==============================] - 1s 17ms/step - loss: 0.0554 - accuracy: 0.9848 - val_loss: 0.0858 - val_accuracy: 0.9645\n",
      "Epoch 6/10\n",
      "60/60 [==============================] - ETA: 0s - loss: 0.0616 - accuracy: 0.9796\n",
      "Epoch 6: val_accuracy did not improve from 0.98121\n",
      "60/60 [==============================] - 2s 29ms/step - loss: 0.0616 - accuracy: 0.9796 - val_loss: 0.0642 - val_accuracy: 0.9770\n",
      "Epoch 7/10\n",
      "60/60 [==============================] - ETA: 0s - loss: 0.0551 - accuracy: 0.9859\n",
      "Epoch 7: val_accuracy did not improve from 0.98121\n",
      "60/60 [==============================] - 2s 27ms/step - loss: 0.0551 - accuracy: 0.9859 - val_loss: 0.0564 - val_accuracy: 0.9791\n",
      "Epoch 8/10\n",
      "58/60 [============================>.] - ETA: 0s - loss: 0.0533 - accuracy: 0.9844\n",
      "Epoch 8: val_accuracy improved from 0.98121 to 0.98539, saving model to ensemble_averaging_model.h5\n",
      "60/60 [==============================] - 2s 27ms/step - loss: 0.0522 - accuracy: 0.9848 - val_loss: 0.0427 - val_accuracy: 0.9854\n",
      "Epoch 9/10\n",
      "58/60 [============================>.] - ETA: 0s - loss: 0.0506 - accuracy: 0.9855\n",
      "Epoch 9: val_accuracy did not improve from 0.98539\n",
      "60/60 [==============================] - 2s 26ms/step - loss: 0.0500 - accuracy: 0.9854 - val_loss: 0.0596 - val_accuracy: 0.9770\n",
      "Epoch 10/10\n",
      "57/60 [===========================>..] - ETA: 0s - loss: 0.0461 - accuracy: 0.9836\n",
      "Epoch 10: val_accuracy did not improve from 0.98539\n",
      "60/60 [==============================] - 1s 18ms/step - loss: 0.0464 - accuracy: 0.9838 - val_loss: 0.0762 - val_accuracy: 0.9770\n"
     ]
    }
   ],
   "source": [
    "from tensorflow.keras.models import Sequential\n",
    "from tensorflow.keras.layers import Dense, Dropout\n",
    "from tensorflow.keras.callbacks import ModelCheckpoint\n",
    "from tensorflow.keras.models import load_model\n",
    "\n",
    "# Get predictions from the base models on the validation set\n",
    "feature_model1 = load_model('ann_feature_10sec_model.h5')  \n",
    "feature_model2 = load_model('cnn_feature_10sec_model.h5')  \n",
    "\n",
    "spectrogram_model1 = load_model('CNN_spectrogram_10sec_model.h5')  \n",
    "spectrogram_model2 = load_model('GRU_spectrogram_10sec_model.h5') \n",
    "spectrogram_model3 = load_model('LSTM_spectrogram_10sec_model.h5')\n",
    "\n",
    "\n",
    "feature_model1_prediction = feature_model1.predict(X_test_feature)\n",
    "feature_model2_prediction = feature_model2.predict(X_test_feature)\n",
    "spectrogram_model1_prediction = spectrogram_model1.predict(X_test_spectrogram)\n",
    "spectrogram_model2_prediction = spectrogram_model2.predict(X_test_spectrogram)\n",
    "spectrogram_model3_prediction = spectrogram_model3.predict(X_test_spectrogram)\n",
    "\n",
    "# Average the predictions as input features for the meta-model\n",
    "X_meta_train = (feature_model1_prediction + feature_model2_prediction + spectrogram_model1_prediction + spectrogram_model2_prediction + spectrogram_model3_prediction) / 5.0\n",
    "\n",
    "\n",
    "\n",
    "# Define the meta-model architecture\n",
    "meta_model = models.Sequential()\n",
    "meta_model.add(layers.Dense(1024, activation='relu', input_shape=(X_meta_train.shape[1],)))\n",
    "meta_model.add(layers.Dropout(0.2))\n",
    "\n",
    "meta_model.add(layers.Dense(512, activation='relu'))\n",
    "meta_model.add(layers.Dropout(0.2))\n",
    "\n",
    "meta_model.add(layers.Dense(256, activation='relu'))\n",
    "meta_model.add(layers.Dropout(0.2))\n",
    "meta_model.add(layers.Dense(10, activation='softmax'))\n",
    "\n",
    "meta_model.compile(optimizer='adam', loss='categorical_crossentropy', metrics=['accuracy'])\n",
    "\n",
    "# Train the meta-model on the combined predictions\n",
    "model_checkpoint = ModelCheckpoint('ensemble_model.h5', save_best_only=True, monitor='val_accuracy', mode='max', verbose=1)\n",
    "history = meta_model.fit(X_meta_train, y_test_spectrogram, epochs=10, batch_size=32, validation_split=0.2, callbacks=[model_checkpoint])\n"
   ]
  },
  {
   "cell_type": "code",
   "execution_count": 18,
   "metadata": {
    "colab": {
     "base_uri": "https://localhost:8080/"
    },
    "id": "tKW386QLPCXH",
    "outputId": "2729364b-6c3b-4d7d-e2c1-8672a23e2d59"
   },
   "outputs": [
    {
     "name": "stdout",
     "output_type": "stream",
     "text": [
      "75/75 [==============================] - 0s 4ms/step - loss: 0.0462 - accuracy: 0.9850\n",
      "Test accuracy: 98.50%\n",
      "Test_Loss: 0.0462\n"
     ]
    }
   ],
   "source": [
    "# Evaluate the best model\n",
    "test_loss, test_acc = meta_model.evaluate(X_meta_train, y_test_spectrogram)\n",
    "print(f'Test accuracy: {test_acc * 100:.2f}%')\n",
    "print(f\"Test_Loss: {test_loss:.4f}\")"
   ]
  },
  {
   "cell_type": "code",
   "execution_count": 19,
   "metadata": {
    "colab": {
     "base_uri": "https://localhost:8080/",
     "height": 1000
    },
    "id": "5bTRLJHpoCcj",
    "outputId": "d07f08f6-c323-47d3-8ae8-30a03e7615a0"
   },
   "outputs": [
    {
     "name": "stdout",
     "output_type": "stream",
     "text": [
      "75/75 [==============================] - 0s 3ms/step\n",
      "              precision    recall  f1-score   support\n",
      "\n",
      "       blues       1.00      1.00      1.00       247\n",
      "   classical       0.99      0.99      0.99       234\n",
      "     country       0.99      0.99      0.99       236\n",
      "       disco       0.99      0.98      0.99       252\n",
      "      hiphop       0.99      0.97      0.98       247\n",
      "        jazz       1.00      0.99      1.00       229\n",
      "       metal       0.99      1.00      1.00       247\n",
      "         pop       0.98      1.00      0.99       251\n",
      "      reggae       0.98      0.99      0.99       218\n",
      "        rock       0.97      0.97      0.97       232\n",
      "\n",
      "    accuracy                           0.99      2393\n",
      "   macro avg       0.99      0.99      0.99      2393\n",
      "weighted avg       0.99      0.99      0.99      2393\n",
      "\n"
     ]
    },
    {
     "data": {
      "image/png": "[encoded data removed]",
      "text/plain": [
       "<Figure size 1000x800 with 2 Axes>"
      ]
     },
     "metadata": {},
     "output_type": "display_data"
    }
   ],
   "source": [
    "from sklearn.metrics import accuracy_score, confusion_matrix, classification_report\n",
    "import matplotlib.pyplot as plt\n",
    "import seaborn as sns\n",
    "\n",
    "def model_evaluation_report(model):\n",
    "\n",
    "  # Evaluate the model on the test data\n",
    "  y_pred = model.predict(X_meta_train)\n",
    "  y_pred_classes = np.argmax(y_pred, axis=1)\n",
    "\n",
    "  # Inverse transform encoded labels to original labels\n",
    "  y_test_original = label_encoder.inverse_transform(y_test_spectrogram.argmax(axis=1))\n",
    "  y_pred_original = label_encoder.inverse_transform(y_pred_classes)\n",
    "\n",
    "  # Print classification report\n",
    "  print(classification_report(y_test_original, y_pred_original))\n",
    "\n",
    "  # Plot the confusion matrix\n",
    "  conf_matrix = confusion_matrix(y_test_original, y_pred_original)\n",
    "  plt.figure(figsize=(10, 8))\n",
    "  sns.heatmap(conf_matrix, cmap='Blues',  annot=True)\n",
    "  plt.title('Confusion Matrix')\n",
    "  plt.xlabel('Predicted Labels')\n",
    "  plt.ylabel('True Labels')\n",
    "  plt.xticks(np.arange(len(label_encoder.classes_)), label_encoder.classes_, rotation=90)\n",
    "  plt.yticks(np.arange(len(label_encoder.classes_)), label_encoder.classes_)\n",
    "  plt.show()\n",
    "\n",
    "\n",
    "# Load the saved model\n",
    "model = tf.keras.models.load_model('ensemble_averaging_model.h5')\n",
    "model_evaluation_report(model)"
   ]
  },
  {
   "cell_type": "code",
   "execution_count": 11,
   "metadata": {
    "colab": {
     "base_uri": "https://localhost:8080/"
    },
    "id": "ZxgVEbh6JDad",
    "outputId": "95dfe193-f5cb-4002-d906-ad39afae1704"
   },
   "outputs": [
    {
     "name": "stdout",
     "output_type": "stream",
     "text": [
      "\n",
      "Evaluation Results:\n",
      "\n",
      "Feature Model 1:\n",
      "Accuracy: 93.48%, Loss: 0.2450\n",
      "\n",
      "Feature Model 2:\n",
      "Accuracy: 91.10%, Loss: 0.3401\n",
      "\n",
      "Spectrogram Model 1:\n",
      "Accuracy: 91.56%, Loss: 0.2710\n",
      "\n",
      "Spectrogram Model 2:\n",
      "Accuracy: 90.18%, Loss: 0.3335\n",
      "\n",
      "Spectrogram Model 3:\n",
      "Accuracy: 89.76%, Loss: 0.3270\n",
      "\n",
      "Ensemble Model:\n",
      "Accuracy: 98.54%, Loss: 0.0490\n"
     ]
    }
   ],
   "source": [
    "# Evaluate the models on the test data\n",
    "feature_model1_loss, feature_model1_acc = feature_model1.evaluate(X_test_feature, y_test_feature, verbose=0)\n",
    "feature_model2_loss, feature_model2_acc = feature_model2.evaluate(X_test_feature, y_test_feature, verbose=0)\n",
    "spectrogram_model1_loss, spectrogram_model1_acc = spectrogram_model1.evaluate(X_test_spectrogram, y_test_spectrogram, verbose=0)\n",
    "spectrogram_model2_loss, spectrogram_model2_acc = spectrogram_model2.evaluate(X_test_spectrogram, y_test_spectrogram, verbose=0)\n",
    "spectrogram_model3_loss, spectrogram_model3_acc = spectrogram_model3.evaluate(X_test_spectrogram, y_test_spectrogram, verbose=0)\n",
    "ensemble_model_loss, ensemble_model_acc = meta_model.evaluate(X_meta_train, y_test_spectrogram, verbose=0)\n",
    "\n",
    "# Print the evaluation results for each model\n",
    "print(\"\\nEvaluation Results:\")\n",
    "\n",
    "# Feature Model 1\n",
    "print(\"\\nFeature Model 1:\")\n",
    "print(f\"Accuracy: {feature_model1_acc * 100:.2f}%, Loss: {feature_model1_loss:.4f}\")\n",
    "\n",
    "# Feature Model 2\n",
    "print(\"\\nFeature Model 2:\")\n",
    "print(f\"Accuracy: {feature_model2_acc * 100:.2f}%, Loss: {feature_model2_loss:.4f}\")\n",
    "\n",
    "# Spectrogram Model 1\n",
    "print(\"\\nSpectrogram Model 1:\")\n",
    "print(f\"Accuracy: {spectrogram_model1_acc * 100:.2f}%, Loss: {spectrogram_model1_loss:.4f}\")\n",
    "\n",
    "# Spectrogram Model 2\n",
    "print(\"\\nSpectrogram Model 2:\")\n",
    "print(f\"Accuracy: {spectrogram_model2_acc * 100:.2f}%, Loss: {spectrogram_model2_loss:.4f}\")\n",
    "\n",
    "# Spectrogram Model 3\n",
    "print(\"\\nSpectrogram Model 3:\")\n",
    "print(f\"Accuracy: {spectrogram_model3_acc * 100:.2f}%, Loss: {spectrogram_model3_loss:.4f}\")\n",
    "\n",
    "# Ensemble Model\n",
    "print(\"\\nEnsemble Model:\")\n",
    "print(f\"Accuracy: {ensemble_model_acc * 100:.2f}%, Loss: {ensemble_model_loss:.4f}\")\n"
   ]
  },
  {
   "cell_type": "code",
   "execution_count": null,
   "metadata": {
    "id": "XRcvFohcuFm6"
   },
   "outputs": [],
   "source": [
    "import os\n",
    "import tempfile\n",
    "import numpy as np\n",
    "import matplotlib.pyplot as plt\n",
    "import librosa\n",
    "import librosa.display\n",
    "import tensorflow as tf\n",
    "from tensorflow.keras.models import load_model\n",
    "import joblib\n",
    "from collections import Counter\n",
    "tf.keras.utils.disable_interactive_logging()\n",
    "\n",
    "from collections import Counter\n",
    "\n",
    "def test_music_genre(audio_file):\n",
    "    # Define the function to extract features from audio\n",
    "    def extract_features_segment(audio_data, sr):\n",
    "        chroma_stft_mean = np.mean(librosa.feature.chroma_stft(y=audio_data, sr=sr))\n",
    "        chroma_stft_var = np.var(librosa.feature.chroma_stft(y=audio_data, sr=sr))\n",
    "        rms_mean = np.mean(librosa.feature.rms(y=audio_data))\n",
    "        rms_var = np.var(librosa.feature.rms(y=audio_data))\n",
    "        spectral_centroid_mean = np.mean(librosa.feature.spectral_centroid(y=audio_data, sr=sr))\n",
    "        spectral_centroid_var = np.var(librosa.feature.spectral_centroid(y=audio_data, sr=sr))\n",
    "        spectral_bandwidth_mean = np.mean(librosa.feature.spectral_bandwidth(y=audio_data, sr=sr))\n",
    "        spectral_bandwidth_var = np.var(librosa.feature.spectral_bandwidth(y=audio_data, sr=sr))\n",
    "        rolloff_mean = np.mean(librosa.feature.spectral_rolloff(y=audio_data, sr=sr))\n",
    "        rolloff_var = np.var(librosa.feature.spectral_rolloff(y=audio_data, sr=sr))\n",
    "        zero_crossing_rate_mean = np.mean(librosa.feature.zero_crossing_rate(audio_data))\n",
    "        zero_crossing_rate_var = np.var(librosa.feature.zero_crossing_rate(audio_data))\n",
    "        harmony_mean = np.mean(librosa.effects.harmonic(y=audio_data))\n",
    "        harmony_var = np.var(librosa.effects.harmonic(y=audio_data))\n",
    "        perceptr_mean = np.mean(librosa.effects.percussive(y=audio_data))\n",
    "        perceptr_var = np.var(librosa.effects.percussive(y=audio_data))\n",
    "        tempo, _ = librosa.beat.beat_track(y=audio_data, sr=sr)\n",
    "        mfccs = librosa.feature.mfcc(y=audio_data, sr=sr, n_mfcc=20)\n",
    "        mfcc_means = np.mean(mfccs, axis=1)\n",
    "        mfcc_vars = np.var(mfccs, axis=1)\n",
    "\n",
    "        # Combine the extracted features into a single array\n",
    "        return [chroma_stft_mean, chroma_stft_var, rms_mean, rms_var, spectral_centroid_mean,\n",
    "                spectral_centroid_var, spectral_bandwidth_mean, spectral_bandwidth_var, rolloff_mean,\n",
    "                rolloff_var, zero_crossing_rate_mean, zero_crossing_rate_var, harmony_mean, harmony_var,\n",
    "                perceptr_mean, perceptr_var, tempo] + list(mfcc_means) + list(mfcc_vars)\n",
    "\n",
    "    # Define the function to create spectrogram from audio\n",
    "    def create_spectrogram(audio_data, sr, temp_dir, input_shape):\n",
    "        plt.figure(figsize=(3, 3))\n",
    "        D = librosa.amplitude_to_db(np.abs(librosa.stft(audio_data)), ref=np.max)\n",
    "        librosa.display.specshow(D, sr=sr, x_axis='time', y_axis='log', cmap='viridis')\n",
    "        plt.axis('off')\n",
    "\n",
    "        # Use the provided temporary directory\n",
    "        spectrogram_filename = os.path.join(temp_dir, 'spectrogram.png')\n",
    "        plt.savefig(spectrogram_filename, bbox_inches='tight', pad_inches=0, transparent=True)\n",
    "        plt.close()\n",
    "\n",
    "        return spectrogram_filename\n",
    "\n",
    "    # Load the saved models\n",
    "    feature_model1 = load_model('ann_feature_10sec_model.h5')  \n",
    "    feature_model2 = load_model('cnn_feature_10sec_model.h5')  \n",
    "\n",
    "    spectrogram_model1 = load_model('CNN_spectrogram_10sec_model.h5')  \n",
    "    spectrogram_model2 = load_model('GRU_spectrogram_10sec_model.h5') \n",
    "    spectrogram_model3 = load_model('LSTM_spectrogram_10sec_model.h5')\n",
    "\n",
    "    # Load the scaler and label encoder for feature-based models\n",
    "    scaler = joblib.load('scaler.pkl')\n",
    "    label_encoder = joblib.load('label_encoder.pkl')\n",
    "\n",
    "    # Define a function to preprocess input for feature-based models\n",
    "    def preprocess_features(audio_data, sr):\n",
    "        features = extract_features_segment(audio_data, sr)\n",
    "        features_scaled = scaler.transform(np.array([features]))\n",
    "        return features_scaled\n",
    "\n",
    "    # Define a function to preprocess input for spectrogram-based models\n",
    "    def preprocess_spectrogram(audio_data, sr):\n",
    "        input_shape = (64, 64, 3)  # Assuming input shape for spectrogram models\n",
    "        with tempfile.TemporaryDirectory() as temp_dir:\n",
    "            spectrogram_filename = create_spectrogram(audio_data, sr, temp_dir, input_shape)\n",
    "            spectrogram = tf.keras.preprocessing.image.load_img(spectrogram_filename, target_size=(input_shape[0], input_shape[1]))\n",
    "            spectrogram = tf.keras.preprocessing.image.img_to_array(spectrogram)\n",
    "            spectrogram /= 255.0  # Normalize pixel values to [0, 1]\n",
    "            spectrogram = np.expand_dims(spectrogram, axis=0)\n",
    "        return spectrogram\n",
    "\n",
    "\n",
    "    # Load the audio file\n",
    "    audio_data, sr = librosa.load(audio_file)\n",
    "\n",
    "    # Define segment duration (10 seconds)\n",
    "    segment_duration = 10 * sr\n",
    "\n",
    "    # Calculate the number of segments\n",
    "    num_segments = len(audio_data) // segment_duration\n",
    "\n",
    "    # Define lists to store predictions for each model\n",
    "    feature_model1_predictions = []\n",
    "    feature_model2_predictions = []\n",
    "    spectrogram_model1_predictions = []\n",
    "    spectrogram_model2_predictions = []\n",
    "    spectrogram_model3_predictions = []\n",
    "    ensemble_predictions = []\n",
    "\n",
    "    # Iterate over each segment\n",
    "    for segment_index in range(num_segments):\n",
    "        start_sample = segment_index * segment_duration\n",
    "        end_sample = (segment_index + 1) * segment_duration\n",
    "        segment_audio = audio_data[start_sample:end_sample]\n",
    "\n",
    "        # Predictions for each individual model\n",
    "        features_input = preprocess_features(segment_audio, sr)\n",
    "        spectrogram_input = preprocess_spectrogram(segment_audio, sr)\n",
    "\n",
    "        feature_model1_prediction = feature_model1.predict(features_input.reshape(1, features_input.shape[1],))\n",
    "        feature_model2_prediction = feature_model2.predict(features_input.reshape(1, features_input.shape[1],1))\n",
    "        spectrogram_model1_prediction = spectrogram_model1.predict(spectrogram_input)\n",
    "        spectrogram_model2_prediction = spectrogram_model2.predict(spectrogram_input)\n",
    "        spectrogram_model3_prediction = spectrogram_model3.predict(spectrogram_input)\n",
    "\n",
    "        # Append predictions to respective lists\n",
    "        feature_model1_predictions.append(label_encoder.inverse_transform([np.argmax(feature_model1_prediction)])[0])\n",
    "        feature_model2_predictions.append(label_encoder.inverse_transform([np.argmax(feature_model2_prediction)])[0])\n",
    "        spectrogram_model1_predictions.append(label_encoder.inverse_transform([np.argmax(spectrogram_model1_prediction)])[0])\n",
    "        spectrogram_model2_predictions.append(label_encoder.inverse_transform([np.argmax(spectrogram_model2_prediction)])[0])\n",
    "        spectrogram_model3_predictions.append(label_encoder.inverse_transform([np.argmax(spectrogram_model3_prediction)])[0])\n",
    "\n",
    "        # Average the predictions as input features for the meta-model\n",
    "        X_meta_test = (feature_model1_prediction + feature_model2_prediction + spectrogram_model1_prediction + spectrogram_model2_prediction + spectrogram_model3_prediction) / 5.0\n",
    "\n",
    "        # Load the meta-model (stacked ensemble model)\n",
    "        meta_model = load_model('ensemble_model.h5')\n",
    "\n",
    "        # Predict with the meta-model (stacked ensemble)\n",
    "        ensemble_prediction = meta_model.predict(X_meta_test)\n",
    "        ensemble_prediction = label_encoder.inverse_transform([np.argmax(ensemble_prediction)])[0]\n",
    "\n",
    "        # Append the predicted label to the ensemble predictions list\n",
    "        ensemble_predictions.append(ensemble_prediction)\n",
    "\n",
    "        # # Print predictions for each segment for each individual model\n",
    "        # print(f\"Segment {segment_index + 1} Predictions:\")\n",
    "        # print(\"Feature Model 1 Prediction:\", label_encoder.inverse_transform([np.argmax(feature_model1_prediction)])[0])\n",
    "        # print(\"Feature Model 2 Prediction:\", label_encoder.inverse_transform([np.argmax(feature_model2_prediction)])[0])\n",
    "        # print(\"Spectrogram Model 1 Prediction:\", label_encoder.inverse_transform([np.argmax(spectrogram_model1_prediction)])[0])\n",
    "        # print(\"Spectrogram Model 2 Prediction:\", label_encoder.inverse_transform([np.argmax(spectrogram_model2_prediction)])[0])\n",
    "        # print(\"Spectrogram Model 3 Prediction:\", label_encoder.inverse_transform([np.argmax(spectrogram_model3_prediction)])[0])\n",
    "\n",
    "        # # Print ensemble prediction\n",
    "        # print(\"Ensemble Prediction:\", ensemble_prediction)\n",
    "        # print()\n",
    "\n",
    "    # Convert predictions to tuples for Counter\n",
    "    feature_model1_predictions = tuple(feature_model1_predictions)\n",
    "    feature_model2_predictions = tuple(feature_model2_predictions)\n",
    "    spectrogram_model1_predictions = tuple(spectrogram_model1_predictions)\n",
    "    spectrogram_model2_predictions = tuple(spectrogram_model2_predictions)\n",
    "    spectrogram_model3_predictions = tuple(spectrogram_model3_predictions)\n",
    "    ensemble_predictions = tuple(ensemble_predictions)\n",
    "\n",
    "    # Find the most common predictions for each model\n",
    "    most_common_feature_model1 = Counter(feature_model1_predictions).most_common(1)[0][0]\n",
    "    most_common_feature_model2 = Counter(feature_model2_predictions).most_common(1)[0][0]\n",
    "    most_common_spectrogram_model1 = Counter(spectrogram_model1_predictions).most_common(1)[0][0]\n",
    "    most_common_spectrogram_model2 = Counter(spectrogram_model2_predictions).most_common(1)[0][0]\n",
    "    most_common_spectrogram_model3 = Counter(spectrogram_model3_predictions).most_common(1)[0][0]\n",
    "    most_common_ensemble = Counter(ensemble_predictions).most_common(1)[0][0]\n",
    "\n",
    "    print(\"Most Common feature_model1 Prediction:\", most_common_feature_model1)\n",
    "    print(\"Most Common feature_model2 Prediction:\", most_common_feature_model2)\n",
    "    print(\"Most Common spectrogram_model1 Prediction:\", most_common_spectrogram_model1)\n",
    "    print(\"Most Common spectrogram_model2 Prediction:\", most_common_spectrogram_model2)\n",
    "    print(\"Most Common spectrogram_model3 Prediction:\", most_common_spectrogram_model3)\n",
    "    print(\"Most Common ensemble_model Prediction:\", most_common_ensemble)\n"
   ]
  },
  {
   "cell_type": "code",
   "execution_count": null,
   "metadata": {
    "id": "fDsYaOhyM3hG"
   },
   "outputs": [],
   "source": [
    "def test_music_genre_folder(folder_path):\n",
    "    # List all files in the folder\n",
    "    audio_files = [os.path.join(folder_path, file) for file in os.listdir(folder_path) if file.endswith(('.wav', '.mp3', '.FLAC'))]\n",
    "\n",
    "    # Perform genre classification for each audio file\n",
    "    for audio_file in audio_files:\n",
    "        print(f\"Audio File: {os.path.basename(audio_file)}\")\n",
    "        print(\"-\" * 50)\n",
    "        test_music_genre(audio_file)\n",
    "        print(\"=\" * 50)\n",
    "        print()\n",
    "\n"
   ]
  },
  {
   "cell_type": "markdown",
   "metadata": {
    "id": "KwcAvhGZNdm_"
   },
   "source": [
    "## Blues"
   ]
  },
  {
   "cell_type": "code",
   "execution_count": null,
   "metadata": {
    "colab": {
     "base_uri": "https://localhost:8080/"
    },
    "id": "aIk-kFQ1Ng_i",
    "outputId": "4357fbfa-2bce-44ab-d25e-316720da0a34"
   },
   "outputs": [
    {
     "name": "stdout",
     "output_type": "stream",
     "text": [
      "Audio File: 07. Terraplane Blues (Remastered).mp3\n",
      "--------------------------------------------------\n",
      "Most Common feature_model1 Prediction: jazz\n",
      "Most Common feature_model2 Prediction: country\n",
      "Most Common spectrogram_model1 Prediction: blues\n",
      "Most Common spectrogram_model2 Prediction: blues\n",
      "Most Common spectrogram_model3 Prediction: blues\n",
      "Most Common ensemble_model Prediction: blues\n",
      "==================================================\n",
      "\n",
      "Audio File: 05. When You Got A Good Friend (Remastered).mp3\n",
      "--------------------------------------------------\n",
      "Most Common feature_model1 Prediction: blues\n",
      "Most Common feature_model2 Prediction: country\n",
      "Most Common spectrogram_model1 Prediction: blues\n",
      "Most Common spectrogram_model2 Prediction: blues\n",
      "Most Common spectrogram_model3 Prediction: blues\n",
      "Most Common ensemble_model Prediction: blues\n",
      "==================================================\n",
      "\n",
      "Audio File: 01. Kind Hearted Woman Blues (Remastered).mp3\n",
      "--------------------------------------------------\n",
      "Most Common feature_model1 Prediction: jazz\n",
      "Most Common feature_model2 Prediction: jazz\n",
      "Most Common spectrogram_model1 Prediction: blues\n",
      "Most Common spectrogram_model2 Prediction: blues\n",
      "Most Common spectrogram_model3 Prediction: blues\n",
      "Most Common ensemble_model Prediction: blues\n",
      "==================================================\n",
      "\n",
      "Audio File: 02. I Believe I'll Dust My Broom (Remastered).mp3\n",
      "--------------------------------------------------\n",
      "Most Common feature_model1 Prediction: blues\n",
      "Most Common feature_model2 Prediction: country\n",
      "Most Common spectrogram_model1 Prediction: blues\n",
      "Most Common spectrogram_model2 Prediction: blues\n",
      "Most Common spectrogram_model3 Prediction: blues\n",
      "Most Common ensemble_model Prediction: blues\n",
      "==================================================\n",
      "\n",
      "Audio File: 06. Come On In My Kitchen (Remastered).mp3\n",
      "--------------------------------------------------\n",
      "Most Common feature_model1 Prediction: country\n",
      "Most Common feature_model2 Prediction: classical\n",
      "Most Common spectrogram_model1 Prediction: blues\n",
      "Most Common spectrogram_model2 Prediction: blues\n",
      "Most Common spectrogram_model3 Prediction: blues\n",
      "Most Common ensemble_model Prediction: blues\n",
      "==================================================\n",
      "\n",
      "Audio File: 03. Sweet Home Chicago (Remastered).mp3\n",
      "--------------------------------------------------\n",
      "Most Common feature_model1 Prediction: blues\n",
      "Most Common feature_model2 Prediction: country\n",
      "Most Common spectrogram_model1 Prediction: blues\n",
      "Most Common spectrogram_model2 Prediction: blues\n",
      "Most Common spectrogram_model3 Prediction: blues\n",
      "Most Common ensemble_model Prediction: blues\n",
      "==================================================\n",
      "\n",
      "Audio File: 04. Ramblin' On My Mind (Remastered).mp3\n",
      "--------------------------------------------------\n",
      "Most Common feature_model1 Prediction: jazz\n",
      "Most Common feature_model2 Prediction: country\n",
      "Most Common spectrogram_model1 Prediction: blues\n",
      "Most Common spectrogram_model2 Prediction: blues\n",
      "Most Common spectrogram_model3 Prediction: blues\n",
      "Most Common ensemble_model Prediction: blues\n",
      "==================================================\n",
      "\n"
     ]
    }
   ],
   "source": [
    "folder_path = \"Final Music_audios_for_testing/Blues\"\n",
    "\n",
    "test_music_genre_folder(folder_path)"
   ]
  },
  {
   "cell_type": "markdown",
   "metadata": {
    "id": "Qne-zhUgNjVb"
   },
   "source": [
    "## Classical"
   ]
  },
  {
   "cell_type": "code",
   "execution_count": null,
   "metadata": {
    "colab": {
     "base_uri": "https://localhost:8080/"
    },
    "id": "RfFHh3YqNqNd",
    "outputId": "b758a605-2ac2-4ee0-8fe9-9d144837de55"
   },
   "outputs": [
    {
     "name": "stdout",
     "output_type": "stream",
     "text": [
      "Audio File: 02 AMidsummer Night's Dream, Dance of the Clowns.wav\n",
      "--------------------------------------------------\n",
      "Most Common feature_model1 Prediction: classical\n",
      "Most Common feature_model2 Prediction: classical\n",
      "Most Common spectrogram_model1 Prediction: classical\n",
      "Most Common spectrogram_model2 Prediction: classical\n",
      "Most Common spectrogram_model3 Prediction: classical\n",
      "Most Common ensemble_model Prediction: classical\n",
      "==================================================\n",
      "\n",
      "Audio File: 07 Swan Lake, Tanz der Schwane.wav\n",
      "--------------------------------------------------\n",
      "Most Common feature_model1 Prediction: classical\n",
      "Most Common feature_model2 Prediction: classical\n",
      "Most Common spectrogram_model1 Prediction: classical\n",
      "Most Common spectrogram_model2 Prediction: jazz\n",
      "Most Common spectrogram_model3 Prediction: classical\n",
      "Most Common ensemble_model Prediction: classical\n",
      "==================================================\n",
      "\n",
      "Audio File: 05 Spring Song.wav\n",
      "--------------------------------------------------\n",
      "Most Common feature_model1 Prediction: classical\n",
      "Most Common feature_model2 Prediction: classical\n",
      "Most Common spectrogram_model1 Prediction: classical\n",
      "Most Common spectrogram_model2 Prediction: classical\n",
      "Most Common spectrogram_model3 Prediction: classical\n",
      "Most Common ensemble_model Prediction: classical\n",
      "==================================================\n",
      "\n",
      "Audio File: 06 Pagliacci, Intermezzo.wav\n",
      "--------------------------------------------------\n",
      "Most Common feature_model1 Prediction: classical\n",
      "Most Common feature_model2 Prediction: classical\n",
      "Most Common spectrogram_model1 Prediction: classical\n",
      "Most Common spectrogram_model2 Prediction: classical\n",
      "Most Common spectrogram_model3 Prediction: classical\n",
      "Most Common ensemble_model Prediction: classical\n",
      "==================================================\n",
      "\n",
      "Audio File: 04 Turkish March.wav\n",
      "--------------------------------------------------\n",
      "Most Common feature_model1 Prediction: classical\n",
      "Most Common feature_model2 Prediction: classical\n",
      "Most Common spectrogram_model1 Prediction: classical\n",
      "Most Common spectrogram_model2 Prediction: classical\n",
      "Most Common spectrogram_model3 Prediction: classical\n",
      "Most Common ensemble_model Prediction: classical\n",
      "==================================================\n",
      "\n",
      "Audio File: 03 Berceuse.wav\n",
      "--------------------------------------------------\n",
      "Most Common feature_model1 Prediction: classical\n",
      "Most Common feature_model2 Prediction: classical\n",
      "Most Common spectrogram_model1 Prediction: classical\n",
      "Most Common spectrogram_model2 Prediction: classical\n",
      "Most Common spectrogram_model3 Prediction: classical\n",
      "Most Common ensemble_model Prediction: classical\n",
      "==================================================\n",
      "\n",
      "Audio File: 01 Piano Concerto in B flat minor, Allegro non troppo.wav\n",
      "--------------------------------------------------\n",
      "Most Common feature_model1 Prediction: classical\n",
      "Most Common feature_model2 Prediction: classical\n",
      "Most Common spectrogram_model1 Prediction: classical\n",
      "Most Common spectrogram_model2 Prediction: classical\n",
      "Most Common spectrogram_model3 Prediction: classical\n",
      "Most Common ensemble_model Prediction: classical\n",
      "==================================================\n",
      "\n"
     ]
    }
   ],
   "source": [
    "folder_path = \"Music_audios_for_testing/Classical\"\n",
    "\n",
    "test_music_genre_folder(folder_path)"
   ]
  },
  {
   "cell_type": "markdown",
   "metadata": {
    "id": "hkQZRrbFPFnV"
   },
   "source": [
    "##Country"
   ]
  },
  {
   "cell_type": "code",
   "execution_count": null,
   "metadata": {
    "colab": {
     "base_uri": "https://localhost:8080/"
    },
    "id": "9VbG8t3zPHBt",
    "outputId": "695c5c63-b9cd-480e-8c81-7c9e55399bec"
   },
   "outputs": [
    {
     "name": "stdout",
     "output_type": "stream",
     "text": [
      "Audio File: 01 - Skeeter Davis (Mary Frances Penick) - Desperado (unknown Cover The eagles 1973).FLAC\n",
      "--------------------------------------------------\n",
      "Most Common feature_model1 Prediction: country\n",
      "Most Common feature_model2 Prediction: country\n",
      "Most Common spectrogram_model1 Prediction: country\n",
      "Most Common spectrogram_model2 Prediction: country\n",
      "Most Common spectrogram_model3 Prediction: country\n",
      "Most Common ensemble_model Prediction: country\n",
      "==================================================\n",
      "\n",
      "Audio File: 02 - Lynn Andersen - Rose garden (1970 Cover Joe South 1969).FLAC\n",
      "--------------------------------------------------\n",
      "Most Common feature_model1 Prediction: rock\n",
      "Most Common feature_model2 Prediction: disco\n",
      "Most Common spectrogram_model1 Prediction: country\n",
      "Most Common spectrogram_model2 Prediction: country\n",
      "Most Common spectrogram_model3 Prediction: country\n",
      "Most Common ensemble_model Prediction: country\n",
      "==================================================\n",
      "\n",
      "Audio File: 03 - Willie Nelson - Pretty paper (1979 Cover Roy Orbison 1963).FLAC\n",
      "--------------------------------------------------\n",
      "Most Common feature_model1 Prediction: country\n",
      "Most Common feature_model2 Prediction: country\n",
      "Most Common spectrogram_model1 Prediction: country\n",
      "Most Common spectrogram_model2 Prediction: country\n",
      "Most Common spectrogram_model3 Prediction: country\n",
      "Most Common ensemble_model Prediction: country\n",
      "==================================================\n",
      "\n",
      "Audio File: 04 - Jimmie Rodgers - Kisses sweeter than wine (1957 Cover The weavers 1950).FLAC\n",
      "--------------------------------------------------\n",
      "Most Common feature_model1 Prediction: country\n",
      "Most Common feature_model2 Prediction: country\n",
      "Most Common spectrogram_model1 Prediction: country\n",
      "Most Common spectrogram_model2 Prediction: country\n",
      "Most Common spectrogram_model3 Prediction: country\n",
      "Most Common ensemble_model Prediction: country\n",
      "==================================================\n",
      "\n",
      "Audio File: 05 - Johnny Cash - Guess things happen that way (1958).FLAC\n",
      "--------------------------------------------------\n",
      "Most Common feature_model1 Prediction: country\n",
      "Most Common feature_model2 Prediction: country\n",
      "Most Common spectrogram_model1 Prediction: country\n",
      "Most Common spectrogram_model2 Prediction: country\n",
      "Most Common spectrogram_model3 Prediction: country\n",
      "Most Common ensemble_model Prediction: country\n",
      "==================================================\n",
      "\n",
      "Audio File: 06 - Frankie Laine - Moonlight gambler (1956).FLAC\n",
      "--------------------------------------------------\n",
      "Most Common feature_model1 Prediction: reggae\n",
      "Most Common feature_model2 Prediction: reggae\n",
      "Most Common spectrogram_model1 Prediction: country\n",
      "Most Common spectrogram_model2 Prediction: country\n",
      "Most Common spectrogram_model3 Prediction: country\n",
      "Most Common ensemble_model Prediction: country\n",
      "==================================================\n",
      "\n",
      "Audio File: 07 - Patsy Cline - Tennessee waltz (1950 Cover Cowboy copas 1947).FLAC\n",
      "--------------------------------------------------\n",
      "Most Common feature_model1 Prediction: country\n",
      "Most Common feature_model2 Prediction: country\n",
      "Most Common spectrogram_model1 Prediction: country\n",
      "Most Common spectrogram_model2 Prediction: country\n",
      "Most Common spectrogram_model3 Prediction: country\n",
      "Most Common ensemble_model Prediction: country\n",
      "==================================================\n",
      "\n"
     ]
    }
   ],
   "source": [
    "folder_path = \"Music_audios_for_testing/Country\"\n",
    "\n",
    "test_music_genre_folder(folder_path)"
   ]
  },
  {
   "cell_type": "markdown",
   "metadata": {
    "id": "TlnCzgOvO0yz"
   },
   "source": [
    "##Disco"
   ]
  },
  {
   "cell_type": "code",
   "execution_count": null,
   "metadata": {
    "colab": {
     "base_uri": "https://localhost:8080/"
    },
    "id": "rAB9BQv1OzwX",
    "outputId": "68a8f247-137e-420a-f5bc-ad1f5532eb6a"
   },
   "outputs": [
    {
     "name": "stdout",
     "output_type": "stream",
     "text": [
      "Audio File: 01. Sister Sledge - He's the Greatest Dancer.mp3\n",
      "--------------------------------------------------\n",
      "Most Common feature_model1 Prediction: hiphop\n",
      "Most Common feature_model2 Prediction: hiphop\n",
      "Most Common spectrogram_model1 Prediction: disco\n",
      "Most Common spectrogram_model2 Prediction: disco\n",
      "Most Common spectrogram_model3 Prediction: disco\n",
      "Most Common ensemble_model Prediction: disco\n",
      "==================================================\n",
      "\n",
      "Audio File: 02. Chic - Le Freak.mp3\n",
      "--------------------------------------------------\n",
      "Most Common feature_model1 Prediction: pop\n",
      "Most Common feature_model2 Prediction: disco\n",
      "Most Common spectrogram_model1 Prediction: disco\n",
      "Most Common spectrogram_model2 Prediction: disco\n",
      "Most Common spectrogram_model3 Prediction: disco\n",
      "Most Common ensemble_model Prediction: disco\n",
      "==================================================\n",
      "\n",
      "Audio File: 03. Curtis Mayfield - Move on Up.mp3\n",
      "--------------------------------------------------\n",
      "Most Common feature_model1 Prediction: disco\n",
      "Most Common feature_model2 Prediction: blues\n",
      "Most Common spectrogram_model1 Prediction: disco\n",
      "Most Common spectrogram_model2 Prediction: disco\n",
      "Most Common spectrogram_model3 Prediction: disco\n",
      "Most Common ensemble_model Prediction: disco\n",
      "==================================================\n",
      "\n",
      "Audio File: 04. The Spinners - I'll Be Around.mp3\n",
      "--------------------------------------------------\n",
      "Most Common feature_model1 Prediction: rock\n",
      "Most Common feature_model2 Prediction: blues\n",
      "Most Common spectrogram_model1 Prediction: blues\n",
      "Most Common spectrogram_model2 Prediction: blues\n",
      "Most Common spectrogram_model3 Prediction: rock\n",
      "Most Common ensemble_model Prediction: rock\n",
      "==================================================\n",
      "\n",
      "Audio File: 05. Hot Chocolate - You Sexy Thing.mp3\n",
      "--------------------------------------------------\n",
      "Most Common feature_model1 Prediction: disco\n",
      "Most Common feature_model2 Prediction: hiphop\n",
      "Most Common spectrogram_model1 Prediction: country\n",
      "Most Common spectrogram_model2 Prediction: disco\n",
      "Most Common spectrogram_model3 Prediction: disco\n",
      "Most Common ensemble_model Prediction: disco\n",
      "==================================================\n",
      "\n",
      "Audio File: 06. Kc & The Sunshine Band - That's the Way (I Like It).mp3\n",
      "--------------------------------------------------\n",
      "Most Common feature_model1 Prediction: disco\n",
      "Most Common feature_model2 Prediction: disco\n",
      "Most Common spectrogram_model1 Prediction: disco\n",
      "Most Common spectrogram_model2 Prediction: disco\n",
      "Most Common spectrogram_model3 Prediction: disco\n",
      "Most Common ensemble_model Prediction: disco\n",
      "==================================================\n",
      "\n",
      "Audio File: 07. Stacy Lattisaw - Jump to the Beat.mp3\n",
      "--------------------------------------------------\n",
      "Most Common feature_model1 Prediction: pop\n",
      "Most Common feature_model2 Prediction: pop\n",
      "Most Common spectrogram_model1 Prediction: disco\n",
      "Most Common spectrogram_model2 Prediction: disco\n",
      "Most Common spectrogram_model3 Prediction: disco\n",
      "Most Common ensemble_model Prediction: disco\n",
      "==================================================\n",
      "\n"
     ]
    }
   ],
   "source": [
    "folder_path = \"Music_audios_for_testing/Disco\"\n",
    "\n",
    "test_music_genre_folder(folder_path)"
   ]
  },
  {
   "cell_type": "markdown",
   "metadata": {
    "id": "BaGVBXzRPUjW"
   },
   "source": [
    "##Hiphop"
   ]
  },
  {
   "cell_type": "code",
   "execution_count": null,
   "metadata": {
    "colab": {
     "base_uri": "https://localhost:8080/"
    },
    "id": "wBIVNvgnPTqL",
    "outputId": "d285f5ff-3b99-46c9-8b62-a5d6271804c5"
   },
   "outputs": [
    {
     "name": "stdout",
     "output_type": "stream",
     "text": [
      "Audio File: 04. N.Y. State Of Mind.mp3\n",
      "--------------------------------------------------\n",
      "Most Common feature_model1 Prediction: hiphop\n",
      "Most Common feature_model2 Prediction: hiphop\n",
      "Most Common spectrogram_model1 Prediction: rock\n",
      "Most Common spectrogram_model2 Prediction: rock\n",
      "Most Common spectrogram_model3 Prediction: rock\n",
      "Most Common ensemble_model Prediction: rock\n",
      "==================================================\n",
      "\n",
      "Audio File: 06. Mama Said Knock You Out.mp3\n",
      "--------------------------------------------------\n",
      "Most Common feature_model1 Prediction: hiphop\n",
      "Most Common feature_model2 Prediction: hiphop\n",
      "Most Common spectrogram_model1 Prediction: hiphop\n",
      "Most Common spectrogram_model2 Prediction: hiphop\n",
      "Most Common spectrogram_model3 Prediction: hiphop\n",
      "Most Common ensemble_model Prediction: hiphop\n",
      "==================================================\n",
      "\n",
      "Audio File: 02. C.R.E.A.M..mp3\n",
      "--------------------------------------------------\n",
      "Most Common feature_model1 Prediction: reggae\n",
      "Most Common feature_model2 Prediction: reggae\n",
      "Most Common spectrogram_model1 Prediction: reggae\n",
      "Most Common spectrogram_model2 Prediction: reggae\n",
      "Most Common spectrogram_model3 Prediction: reggae\n",
      "Most Common ensemble_model Prediction: reggae\n",
      "==================================================\n",
      "\n",
      "Audio File: 05. Dear Mama.mp3\n",
      "--------------------------------------------------\n",
      "Most Common feature_model1 Prediction: hiphop\n",
      "Most Common feature_model2 Prediction: hiphop\n",
      "Most Common spectrogram_model1 Prediction: pop\n",
      "Most Common spectrogram_model2 Prediction: reggae\n",
      "Most Common spectrogram_model3 Prediction: pop\n",
      "Most Common ensemble_model Prediction: hiphop\n",
      "==================================================\n",
      "\n",
      "Audio File: 03. Mind Playing Tricks On Me.mp3\n",
      "--------------------------------------------------\n",
      "Most Common feature_model1 Prediction: hiphop\n",
      "Most Common feature_model2 Prediction: hiphop\n",
      "Most Common spectrogram_model1 Prediction: hiphop\n",
      "Most Common spectrogram_model2 Prediction: hiphop\n",
      "Most Common spectrogram_model3 Prediction: hiphop\n",
      "Most Common ensemble_model Prediction: hiphop\n",
      "==================================================\n",
      "\n",
      "Audio File: 07. Check The Rhime.mp3\n",
      "--------------------------------------------------\n",
      "Most Common feature_model1 Prediction: hiphop\n",
      "Most Common feature_model2 Prediction: hiphop\n",
      "Most Common spectrogram_model1 Prediction: hiphop\n",
      "Most Common spectrogram_model2 Prediction: hiphop\n",
      "Most Common spectrogram_model3 Prediction: hiphop\n",
      "Most Common ensemble_model Prediction: hiphop\n",
      "==================================================\n",
      "\n",
      "Audio File: 01. They Reminisce Over You (T.R.O.Y.).mp3\n",
      "--------------------------------------------------\n",
      "Most Common feature_model1 Prediction: hiphop\n",
      "Most Common feature_model2 Prediction: hiphop\n",
      "Most Common spectrogram_model1 Prediction: hiphop\n",
      "Most Common spectrogram_model2 Prediction: hiphop\n",
      "Most Common spectrogram_model3 Prediction: hiphop\n",
      "Most Common ensemble_model Prediction: hiphop\n",
      "==================================================\n",
      "\n"
     ]
    }
   ],
   "source": [
    "folder_path = \"Music_audios_for_testing/Hiphop\"\n",
    "\n",
    "test_music_genre_folder(folder_path)"
   ]
  },
  {
   "cell_type": "markdown",
   "metadata": {
    "id": "1ai-0r7xPgi1"
   },
   "source": [
    "##Jazz"
   ]
  },
  {
   "cell_type": "code",
   "execution_count": null,
   "metadata": {
    "colab": {
     "base_uri": "https://localhost:8080/"
    },
    "id": "maplr-gtPhwA",
    "outputId": "1857e58f-9ac0-459d-b526-dc24428f43d8"
   },
   "outputs": [
    {
     "name": "stdout",
     "output_type": "stream",
     "text": [
      "Audio File: 01. Bill Evans - Autumn Leaves.mp3\n",
      "--------------------------------------------------\n",
      "Most Common feature_model1 Prediction: jazz\n",
      "Most Common feature_model2 Prediction: jazz\n",
      "Most Common spectrogram_model1 Prediction: jazz\n",
      "Most Common spectrogram_model2 Prediction: jazz\n",
      "Most Common spectrogram_model3 Prediction: jazz\n",
      "Most Common ensemble_model Prediction: jazz\n",
      "==================================================\n",
      "\n",
      "Audio File: 02. Cannonball Adderley - Mercy, Mercy, Mercy.mp3\n",
      "--------------------------------------------------\n",
      "Most Common feature_model1 Prediction: rock\n",
      "Most Common feature_model2 Prediction: jazz\n",
      "Most Common spectrogram_model1 Prediction: jazz\n",
      "Most Common spectrogram_model2 Prediction: jazz\n",
      "Most Common spectrogram_model3 Prediction: jazz\n",
      "Most Common ensemble_model Prediction: jazz\n",
      "==================================================\n",
      "\n",
      "Audio File: 03. Herbie Hancock - Cantaloupe Island.mp3\n",
      "--------------------------------------------------\n",
      "Most Common feature_model1 Prediction: jazz\n",
      "Most Common feature_model2 Prediction: jazz\n",
      "Most Common spectrogram_model1 Prediction: jazz\n",
      "Most Common spectrogram_model2 Prediction: jazz\n",
      "Most Common spectrogram_model3 Prediction: jazz\n",
      "Most Common ensemble_model Prediction: jazz\n",
      "==================================================\n",
      "\n",
      "Audio File: 04. John Coltrane - Time After Time.mp3\n",
      "--------------------------------------------------\n",
      "Most Common feature_model1 Prediction: jazz\n",
      "Most Common feature_model2 Prediction: jazz\n",
      "Most Common spectrogram_model1 Prediction: jazz\n",
      "Most Common spectrogram_model2 Prediction: jazz\n",
      "Most Common spectrogram_model3 Prediction: jazz\n",
      "Most Common ensemble_model Prediction: jazz\n",
      "==================================================\n",
      "\n",
      "Audio File: 05. Stan Getz - A Nightingale Sang In Berkeley Square.mp3\n",
      "--------------------------------------------------\n",
      "Most Common feature_model1 Prediction: jazz\n",
      "Most Common feature_model2 Prediction: jazz\n",
      "Most Common spectrogram_model1 Prediction: jazz\n",
      "Most Common spectrogram_model2 Prediction: jazz\n",
      "Most Common spectrogram_model3 Prediction: jazz\n",
      "Most Common ensemble_model Prediction: jazz\n",
      "==================================================\n",
      "\n",
      "Audio File: 06. Art Blakey - Moanin'.mp3\n",
      "--------------------------------------------------\n",
      "Most Common feature_model1 Prediction: jazz\n",
      "Most Common feature_model2 Prediction: jazz\n",
      "Most Common spectrogram_model1 Prediction: jazz\n",
      "Most Common spectrogram_model2 Prediction: jazz\n",
      "Most Common spectrogram_model3 Prediction: jazz\n",
      "Most Common ensemble_model Prediction: jazz\n",
      "==================================================\n",
      "\n",
      "Audio File: 07. John Coltrane - Ruby, My Dear.mp3\n",
      "--------------------------------------------------\n",
      "Most Common feature_model1 Prediction: jazz\n",
      "Most Common feature_model2 Prediction: jazz\n",
      "Most Common spectrogram_model1 Prediction: jazz\n",
      "Most Common spectrogram_model2 Prediction: jazz\n",
      "Most Common spectrogram_model3 Prediction: jazz\n",
      "Most Common ensemble_model Prediction: jazz\n",
      "==================================================\n",
      "\n"
     ]
    }
   ],
   "source": [
    "folder_path = \"Music_audios_for_testing/Jazz\"\n",
    "\n",
    "test_music_genre_folder(folder_path)"
   ]
  },
  {
   "cell_type": "markdown",
   "metadata": {
    "id": "hgp1O_-kPvOp"
   },
   "source": [
    "##Metal"
   ]
  },
  {
   "cell_type": "code",
   "execution_count": null,
   "metadata": {
    "colab": {
     "base_uri": "https://localhost:8080/"
    },
    "id": "D2q2iCHtPsVf",
    "outputId": "1e845169-0d5f-4107-8108-b011a210fa11"
   },
   "outputs": [
    {
     "name": "stdout",
     "output_type": "stream",
     "text": [
      "Audio File: 001. Slipknot - Duality.mp3\n",
      "--------------------------------------------------\n",
      "Most Common feature_model1 Prediction: hiphop\n",
      "Most Common feature_model2 Prediction: metal\n",
      "Most Common spectrogram_model1 Prediction: metal\n",
      "Most Common spectrogram_model2 Prediction: metal\n",
      "Most Common spectrogram_model3 Prediction: metal\n",
      "Most Common ensemble_model Prediction: metal\n",
      "==================================================\n",
      "\n",
      "Audio File: 002. Iron Maiden - Run to the Hills (2015 Remaster).mp3\n",
      "--------------------------------------------------\n",
      "Most Common feature_model1 Prediction: rock\n",
      "Most Common feature_model2 Prediction: blues\n",
      "Most Common spectrogram_model1 Prediction: metal\n",
      "Most Common spectrogram_model2 Prediction: metal\n",
      "Most Common spectrogram_model3 Prediction: metal\n",
      "Most Common ensemble_model Prediction: metal\n",
      "==================================================\n",
      "\n",
      "Audio File: 003. Disturbed - Down with the Sickness.mp3\n",
      "--------------------------------------------------\n",
      "Most Common feature_model1 Prediction: hiphop\n",
      "Most Common feature_model2 Prediction: metal\n",
      "Most Common spectrogram_model1 Prediction: metal\n",
      "Most Common spectrogram_model2 Prediction: metal\n",
      "Most Common spectrogram_model3 Prediction: metal\n",
      "Most Common ensemble_model Prediction: metal\n",
      "==================================================\n",
      "\n",
      "Audio File: 004. Avenged Sevenfold - Hail to the King.mp3\n",
      "--------------------------------------------------\n",
      "Most Common feature_model1 Prediction: rock\n",
      "Most Common feature_model2 Prediction: metal\n",
      "Most Common spectrogram_model1 Prediction: metal\n",
      "Most Common spectrogram_model2 Prediction: metal\n",
      "Most Common spectrogram_model3 Prediction: metal\n",
      "Most Common ensemble_model Prediction: metal\n",
      "==================================================\n",
      "\n",
      "Audio File: 005. Hadouken! - That Boy That Girl.mp3\n",
      "--------------------------------------------------\n",
      "Most Common feature_model1 Prediction: pop\n",
      "Most Common feature_model2 Prediction: pop\n",
      "Most Common spectrogram_model1 Prediction: metal\n",
      "Most Common spectrogram_model2 Prediction: pop\n",
      "Most Common spectrogram_model3 Prediction: pop\n",
      "Most Common ensemble_model Prediction: pop\n",
      "==================================================\n",
      "\n",
      "Audio File: 006. Machine Head - Locust.mp3\n",
      "--------------------------------------------------\n",
      "Most Common feature_model1 Prediction: reggae\n",
      "Most Common feature_model2 Prediction: metal\n",
      "Most Common spectrogram_model1 Prediction: metal\n",
      "Most Common spectrogram_model2 Prediction: metal\n",
      "Most Common spectrogram_model3 Prediction: metal\n",
      "Most Common ensemble_model Prediction: metal\n",
      "==================================================\n",
      "\n",
      "Audio File: 007. Deftones - My Own Summer (Shove It).mp3\n",
      "--------------------------------------------------\n",
      "Most Common feature_model1 Prediction: metal\n",
      "Most Common feature_model2 Prediction: metal\n",
      "Most Common spectrogram_model1 Prediction: metal\n",
      "Most Common spectrogram_model2 Prediction: metal\n",
      "Most Common spectrogram_model3 Prediction: metal\n",
      "Most Common ensemble_model Prediction: metal\n",
      "==================================================\n",
      "\n"
     ]
    }
   ],
   "source": [
    "folder_path = \"Music_audios_for_testing/Metal\"\n",
    "\n",
    "test_music_genre_folder(folder_path)"
   ]
  },
  {
   "cell_type": "markdown",
   "metadata": {
    "id": "pcAl2hk1P1s2"
   },
   "source": [
    "##Pop"
   ]
  },
  {
   "cell_type": "code",
   "execution_count": null,
   "metadata": {
    "colab": {
     "base_uri": "https://localhost:8080/"
    },
    "id": "4j5mDoUcP4aw",
    "outputId": "56adddfd-f3e9-496b-a070-8e7ae3ec6610"
   },
   "outputs": [
    {
     "name": "stdout",
     "output_type": "stream",
     "text": [
      "Audio File: 01. Dua Lipa - Levitating.mp3\n",
      "--------------------------------------------------\n",
      "Most Common feature_model1 Prediction: pop\n",
      "Most Common feature_model2 Prediction: pop\n",
      "Most Common spectrogram_model1 Prediction: disco\n",
      "Most Common spectrogram_model2 Prediction: disco\n",
      "Most Common spectrogram_model3 Prediction: pop\n",
      "Most Common ensemble_model Prediction: pop\n",
      "==================================================\n",
      "\n",
      "Audio File: 02. Lady Gaga - Rain On Me.mp3\n",
      "--------------------------------------------------\n",
      "Most Common feature_model1 Prediction: pop\n",
      "Most Common feature_model2 Prediction: pop\n",
      "Most Common spectrogram_model1 Prediction: disco\n",
      "Most Common spectrogram_model2 Prediction: pop\n",
      "Most Common spectrogram_model3 Prediction: pop\n",
      "Most Common ensemble_model Prediction: pop\n",
      "==================================================\n",
      "\n",
      "Audio File: 03. Miley Cyrus - Midnight Sky.mp3\n",
      "--------------------------------------------------\n",
      "Most Common feature_model1 Prediction: pop\n",
      "Most Common feature_model2 Prediction: pop\n",
      "Most Common spectrogram_model1 Prediction: rock\n",
      "Most Common spectrogram_model2 Prediction: pop\n",
      "Most Common spectrogram_model3 Prediction: pop\n",
      "Most Common ensemble_model Prediction: pop\n",
      "==================================================\n",
      "\n",
      "Audio File: 04. BTS - Dynamite.mp3\n",
      "--------------------------------------------------\n",
      "Most Common feature_model1 Prediction: pop\n",
      "Most Common feature_model2 Prediction: pop\n",
      "Most Common spectrogram_model1 Prediction: pop\n",
      "Most Common spectrogram_model2 Prediction: pop\n",
      "Most Common spectrogram_model3 Prediction: pop\n",
      "Most Common ensemble_model Prediction: pop\n",
      "==================================================\n",
      "\n",
      "Audio File: 05. Tones and I - Dance Monkey.mp3\n",
      "--------------------------------------------------\n",
      "Most Common feature_model1 Prediction: pop\n",
      "Most Common feature_model2 Prediction: pop\n",
      "Most Common spectrogram_model1 Prediction: pop\n",
      "Most Common spectrogram_model2 Prediction: pop\n",
      "Most Common spectrogram_model3 Prediction: pop\n",
      "Most Common ensemble_model Prediction: pop\n",
      "==================================================\n",
      "\n",
      "Audio File: 06. Ava Max - Kings & Queens.mp3\n",
      "--------------------------------------------------\n",
      "Most Common feature_model1 Prediction: pop\n",
      "Most Common feature_model2 Prediction: pop\n",
      "Most Common spectrogram_model1 Prediction: pop\n",
      "Most Common spectrogram_model2 Prediction: pop\n",
      "Most Common spectrogram_model3 Prediction: pop\n",
      "Most Common ensemble_model Prediction: pop\n",
      "==================================================\n",
      "\n",
      "Audio File: 07. Sam Smith - Diamonds.mp3\n",
      "--------------------------------------------------\n",
      "Most Common feature_model1 Prediction: pop\n",
      "Most Common feature_model2 Prediction: pop\n",
      "Most Common spectrogram_model1 Prediction: pop\n",
      "Most Common spectrogram_model2 Prediction: pop\n",
      "Most Common spectrogram_model3 Prediction: pop\n",
      "Most Common ensemble_model Prediction: pop\n",
      "==================================================\n",
      "\n"
     ]
    }
   ],
   "source": [
    "folder_path = \"Music_audios_for_testing/Pop\"\n",
    "\n",
    "test_music_genre_folder(folder_path)"
   ]
  },
  {
   "cell_type": "markdown",
   "metadata": {
    "id": "VLYox1zxQCPn"
   },
   "source": [
    "##Reggae"
   ]
  },
  {
   "cell_type": "code",
   "execution_count": null,
   "metadata": {
    "colab": {
     "base_uri": "https://localhost:8080/"
    },
    "id": "_iYRPH8WQCu9",
    "outputId": "71629260-cce9-498f-d354-c9f3ed4fad8e"
   },
   "outputs": [
    {
     "metadata": {
      "tags": null
     },
     "name": "stdout",
     "output_type": "stream",
     "text": [
      "Audio File: 05. The Harder They Come - Jimmy Cliff.mp3\n",
      "--------------------------------------------------\n",
      "Most Common feature_model1 Prediction: country\n",
      "Most Common feature_model2 Prediction: blues\n",
      "Most Common spectrogram_model1 Prediction: reggae\n",
      "Most Common spectrogram_model2 Prediction: reggae\n",
      "Most Common spectrogram_model3 Prediction: reggae\n",
      "Most Common ensemble_model Prediction: reggae\n",
      "==================================================\n",
      "\n",
      "Audio File: 06. One Love - Bob Marley & the Wailers.mp3\n",
      "--------------------------------------------------\n",
      "Most Common feature_model1 Prediction: reggae\n",
      "Most Common feature_model2 Prediction: reggae\n",
      "Most Common spectrogram_model1 Prediction: reggae\n",
      "Most Common spectrogram_model2 Prediction: reggae\n",
      "Most Common spectrogram_model3 Prediction: reggae\n",
      "Most Common ensemble_model Prediction: reggae\n",
      "==================================================\n",
      "\n",
      "Audio File: 01. No Woman, No Cry - Bob Marley & the Wailers.mp3\n",
      "--------------------------------------------------\n",
      "Most Common feature_model1 Prediction: reggae\n",
      "Most Common feature_model2 Prediction: reggae\n",
      "Most Common spectrogram_model1 Prediction: country\n",
      "Most Common spectrogram_model2 Prediction: rock\n",
      "Most Common spectrogram_model3 Prediction: rock\n",
      "Most Common ensemble_model Prediction: reggae\n",
      "==================================================\n",
      "\n",
      "Audio File: 07. 54-46 That's My Number - Toots & the Maytals.mp3\n",
      "--------------------------------------------------\n",
      "Most Common feature_model1 Prediction: reggae\n",
      "Most Common feature_model2 Prediction: reggae\n",
      "Most Common spectrogram_model1 Prediction: reggae\n",
      "Most Common spectrogram_model2 Prediction: reggae\n",
      "Most Common spectrogram_model3 Prediction: reggae\n",
      "Most Common ensemble_model Prediction: reggae\n",
      "==================================================\n",
      "\n",
      "Audio File: 04. Pressure Drop - Toots & the Maytals.mp3\n",
      "--------------------------------------------------\n"
     ]
    },
    {
     "metadata": {
      "tags": null
     },
     "name": "stderr",
     "output_type": "stream",
     "text": [
      "<ipython-input-10-8c2b254db1c1>:90: UserWarning: PySoundFile failed. Trying audioread instead.\n",
      "  audio_data, sr = librosa.load(audio_file)\n",
      "/usr/local/lib/python3.10/dist-packages/librosa/core/audio.py:183: FutureWarning: librosa.core.audio.__audioread_load\n",
      "\tDeprecated as of librosa version 0.10.0.\n",
      "\tIt will be removed in librosa version 1.0.\n",
      "  y, sr_native = __audioread_load(path, offset, duration, dtype)\n"
     ]
    },
    {
     "name": "stdout",
     "output_type": "stream",
     "text": [
      "Most Common feature_model1 Prediction: pop\n",
      "Most Common feature_model2 Prediction: reggae\n",
      "Most Common spectrogram_model1 Prediction: reggae\n",
      "Most Common spectrogram_model2 Prediction: blues\n",
      "Most Common spectrogram_model3 Prediction: reggae\n",
      "Most Common ensemble_model Prediction: reggae\n",
      "==================================================\n",
      "\n",
      "Audio File: 03. Stir It Up - Bob Marley & the Wailers.mp3\n",
      "--------------------------------------------------\n",
      "Most Common feature_model1 Prediction: reggae\n",
      "Most Common feature_model2 Prediction: reggae\n",
      "Most Common spectrogram_model1 Prediction: reggae\n",
      "Most Common spectrogram_model2 Prediction: reggae\n",
      "Most Common spectrogram_model3 Prediction: reggae\n",
      "Most Common ensemble_model Prediction: reggae\n",
      "==================================================\n",
      "\n",
      "Audio File: 02. Israelites - Desmond Dekker & the Aces.mp3\n",
      "--------------------------------------------------\n"
     ]
    },
    {
     "name": "stderr",
     "output_type": "stream",
     "text": [
      "<ipython-input-10-8c2b254db1c1>:90: UserWarning: PySoundFile failed. Trying audioread instead.\n",
      "  audio_data, sr = librosa.load(audio_file)\n",
      "/usr/local/lib/python3.10/dist-packages/librosa/core/audio.py:183: FutureWarning: librosa.core.audio.__audioread_load\n",
      "\tDeprecated as of librosa version 0.10.0.\n",
      "\tIt will be removed in librosa version 1.0.\n",
      "  y, sr_native = __audioread_load(path, offset, duration, dtype)\n"
     ]
    },
    {
     "name": "stdout",
     "output_type": "stream",
     "text": [
      "Most Common feature_model1 Prediction: reggae\n",
      "Most Common feature_model2 Prediction: reggae\n",
      "Most Common spectrogram_model1 Prediction: reggae\n",
      "Most Common spectrogram_model2 Prediction: reggae\n",
      "Most Common spectrogram_model3 Prediction: reggae\n",
      "Most Common ensemble_model Prediction: reggae\n",
      "==================================================\n",
      "\n"
     ]
    }
   ],
   "source": [
    "folder_path = \"Music_audios_for_testing/Reggae\"\n",
    "\n",
    "test_music_genre_folder(folder_path)"
   ]
  },
  {
   "cell_type": "markdown",
   "metadata": {
    "id": "RXgWzyk7QI0z"
   },
   "source": [
    "##Rock"
   ]
  },
  {
   "cell_type": "code",
   "execution_count": null,
   "metadata": {
    "colab": {
     "base_uri": "https://localhost:8080/"
    },
    "id": "j8VIuOlSQJmC",
    "outputId": "7983e9e6-64fd-4cb9-ae21-41c71a2b0bf0"
   },
   "outputs": [
    {
     "name": "stdout",
     "output_type": "stream",
     "text": [
      "Audio File: 007. Queen - Bohemian Rhapsody (2011 Mix).mp3\n",
      "--------------------------------------------------\n",
      "Most Common feature_model1 Prediction: country\n",
      "Most Common feature_model2 Prediction: country\n",
      "Most Common spectrogram_model1 Prediction: rock\n",
      "Most Common spectrogram_model2 Prediction: rock\n",
      "Most Common spectrogram_model3 Prediction: rock\n",
      "Most Common ensemble_model Prediction: rock\n",
      "==================================================\n",
      "\n",
      "Audio File: 001. Eagles - Hotel California (2013 Remaster).mp3\n",
      "--------------------------------------------------\n",
      "Most Common feature_model1 Prediction: rock\n",
      "Most Common feature_model2 Prediction: rock\n",
      "Most Common spectrogram_model1 Prediction: country\n",
      "Most Common spectrogram_model2 Prediction: country\n",
      "Most Common spectrogram_model3 Prediction: rock\n",
      "Most Common ensemble_model Prediction: rock\n",
      "==================================================\n",
      "\n",
      "Audio File: 006. David Bowie - Changes (2015 Remaster).mp3\n",
      "--------------------------------------------------\n",
      "Most Common feature_model1 Prediction: disco\n",
      "Most Common feature_model2 Prediction: disco\n",
      "Most Common spectrogram_model1 Prediction: country\n",
      "Most Common spectrogram_model2 Prediction: country\n",
      "Most Common spectrogram_model3 Prediction: country\n",
      "Most Common ensemble_model Prediction: disco\n",
      "==================================================\n",
      "\n",
      "Audio File: 002. Fleetwood Mac - Go Your Own Way (2004 Remaster).mp3\n",
      "--------------------------------------------------\n",
      "Most Common feature_model1 Prediction: country\n",
      "Most Common feature_model2 Prediction: blues\n",
      "Most Common spectrogram_model1 Prediction: rock\n",
      "Most Common spectrogram_model2 Prediction: disco\n",
      "Most Common spectrogram_model3 Prediction: rock\n",
      "Most Common ensemble_model Prediction: disco\n",
      "==================================================\n",
      "\n",
      "Audio File: 004. The Rolling Stones - Brown Sugar (2009 Mix).mp3\n",
      "--------------------------------------------------\n",
      "Most Common feature_model1 Prediction: rock\n",
      "Most Common feature_model2 Prediction: blues\n",
      "Most Common spectrogram_model1 Prediction: rock\n",
      "Most Common spectrogram_model2 Prediction: rock\n",
      "Most Common spectrogram_model3 Prediction: rock\n",
      "Most Common ensemble_model Prediction: rock\n",
      "==================================================\n",
      "\n",
      "Audio File: 003. Bruce Springsteen - Born to Run.mp3\n",
      "--------------------------------------------------\n",
      "Most Common feature_model1 Prediction: blues\n",
      "Most Common feature_model2 Prediction: metal\n",
      "Most Common spectrogram_model1 Prediction: rock\n",
      "Most Common spectrogram_model2 Prediction: rock\n",
      "Most Common spectrogram_model3 Prediction: rock\n",
      "Most Common ensemble_model Prediction: rock\n",
      "==================================================\n",
      "\n",
      "Audio File: 005. The Beatles - Get Back (Remastered 2009).mp3\n",
      "--------------------------------------------------\n",
      "Most Common feature_model1 Prediction: rock\n",
      "Most Common feature_model2 Prediction: rock\n",
      "Most Common spectrogram_model1 Prediction: rock\n",
      "Most Common spectrogram_model2 Prediction: rock\n",
      "Most Common spectrogram_model3 Prediction: rock\n",
      "Most Common ensemble_model Prediction: rock\n",
      "==================================================\n",
      "\n"
     ]
    }
   ],
   "source": [
    "folder_path = \"Music_audios_for_testing/Rock\"\n",
    "\n",
    "test_music_genre_folder(folder_path)"
   ]
  },
  {
   "cell_type": "code",
   "execution_count": null,
   "metadata": {
    "id": "qxcio1XkUPfs"
   },
   "outputs": [],
   "source": []
  }
 ],
 "metadata": {
  "colab": {
   "provenance": []
  },
  "kernelspec": {
   "display_name": "Python 3 (ipykernel)",
   "language": "python",
   "name": "python3"
  },
  "language_info": {
   "codemirror_mode": {
    "name": "ipython",
    "version": 3
   },
   "file_extension": ".py",
   "mimetype": "text/x-python",
   "name": "python",
   "nbconvert_exporter": "python",
   "pygments_lexer": "ipython3",
   "version": "3.9.12"
  }
 },
 "nbformat": 4,
 "nbformat_minor": 1
}
